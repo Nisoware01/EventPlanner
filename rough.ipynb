{
 "cells": [
  {
   "cell_type": "markdown",
   "id": "8b27867c",
   "metadata": {},
   "source": [
    "How to configure a Model and an agent?"
   ]
  },
  {
   "cell_type": "code",
   "execution_count": null,
   "id": "93e33cf5",
   "metadata": {},
   "outputs": [],
   "source": []
  }
 ],
 "metadata": {
  "kernelspec": {
   "display_name": "eventplanner",
   "language": "python",
   "name": "python3"
  },
  "language_info": {
   "codemirror_mode": {
    "name": "ipython",
    "version": 3
   },
   "file_extension": ".py",
   "mimetype": "text/x-python",
   "name": "python",
   "nbconvert_exporter": "python",
   "pygments_lexer": "ipython3",
   "version": "3.10.11"
  }
 },
 "nbformat": 4,
 "nbformat_minor": 5
}
